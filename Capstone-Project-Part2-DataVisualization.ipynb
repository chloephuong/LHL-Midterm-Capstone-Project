{
 "cells": [
  {
   "attachments": {},
   "cell_type": "markdown",
   "id": "3ef8e5e3",
   "metadata": {},
   "source": [
    "# Lighthouse Lab Mid-Term\n",
    "## Capstone Project Part 2\n",
    "### Dataset: Los Angeles Crime Data Since 2020 to Present"
   ]
  },
  {
   "attachments": {},
   "cell_type": "markdown",
   "id": "a61f10e0",
   "metadata": {},
   "source": [
    "Team: Chloe Phuong and Rinkal Raj"
   ]
  },
  {
   "cell_type": "code",
   "execution_count": 3,
   "id": "4deb7720-9b25-494b-96f7-e213b354feff",
   "metadata": {},
   "outputs": [],
   "source": [
    "import pandas as pd\n",
    "import numpy as np\n",
    "import matplotlib.pyplot as plt\n",
    "import seaborn as sns                       #visualisation\n",
    "import matplotlib.pyplot as plt             #visualisation\n",
    "#%matplotlib inline     \n",
    "sns.set(color_codes=True)\n",
    "import seaborn.objects as so\n",
    "from pathlib import Path\n",
    "import plotly.express as px"
   ]
  },
  {
   "cell_type": "code",
   "execution_count": null,
   "id": "812df335-be4d-4b21-a4cb-0969b0112ec1",
   "metadata": {},
   "outputs": [],
   "source": [
    "# Read the CSV file\n",
    "df = pd.read_csv('clean_crime_data.csv')\n",
    "\n",
    "# Print the contents of the DataFrame\n",
    "df.head(5)"
   ]
  },
  {
   "cell_type": "code",
   "execution_count": 7,
   "id": "f0c529d9-1701-4d55-963f-a076823c8e3b",
   "metadata": {},
   "outputs": [
    {
     "data": {
      "text/plain": [
       "(948022, 17)"
      ]
     },
     "execution_count": 7,
     "metadata": {},
     "output_type": "execute_result"
    }
   ],
   "source": [
    "df.shape"
   ]
  },
  {
   "cell_type": "code",
   "execution_count": null,
   "id": "d2ccb47f-4802-4274-a734-02c7a43763fb",
   "metadata": {},
   "outputs": [],
   "source": [
    "df.info()"
   ]
  },
  {
   "cell_type": "code",
   "execution_count": null,
   "id": "7667d350-b864-42b0-9573-f6865b8b60de",
   "metadata": {},
   "outputs": [],
   "source": [
    "df.describe()"
   ]
  },
  {
   "attachments": {},
   "cell_type": "markdown",
   "id": "3307773c-2c82-4bf2-bb20-07ea0ee896ea",
   "metadata": {},
   "source": [
    "Detect outliners"
   ]
  },
  {
   "cell_type": "code",
   "execution_count": null,
   "id": "b67f47c0-ade0-452d-b69e-d3d2f428b60f",
   "metadata": {},
   "outputs": [],
   "source": [
    "sns.histplot(x=df['Vict Age'])"
   ]
  },
  {
   "cell_type": "code",
   "execution_count": null,
   "id": "50375a07-1a63-4b63-bd1b-2fdecad4ce07",
   "metadata": {},
   "outputs": [],
   "source": [
    "sns.histplot(x=df['Crm Cd'])"
   ]
  },
  {
   "cell_type": "code",
   "execution_count": null,
   "id": "f845e6be-f545-469b-a07f-f9056c9830ec",
   "metadata": {},
   "outputs": [],
   "source": [
    "sns.histplot(x=df['TIME OCC'])"
   ]
  },
  {
   "attachments": {},
   "cell_type": "markdown",
   "id": "1a235ba6-6f5b-4641-a0b5-78ba8c70a0b9",
   "metadata": {},
   "source": [
    "#### EDA 1: The distribution of crimes based on the victim's sex"
   ]
  },
  {
   "cell_type": "code",
   "execution_count": null,
   "id": "96489873-224c-4211-a866-f3d6f350d126",
   "metadata": {},
   "outputs": [],
   "source": [
    "fig=plt.figure(figsize=(10,10))\n",
    "sns.kdeplot(data=df, x=\"Crm Cd\", hue=\"Vict Sex\", multiple=\"stack\")\n",
    "#fig.savefig('IMG/img1.png',facecolor='w')"
   ]
  },
  {
   "attachments": {},
   "cell_type": "markdown",
   "id": "651c185c-3c9a-49a4-840c-6a10e76fe31a",
   "metadata": {},
   "source": [
    "#### EDA 2: What are the proportions of different victim descent groups among female victims?"
   ]
  },
  {
   "cell_type": "code",
   "execution_count": 26,
   "id": "e52c3da7-5c22-4b25-93bf-f3a0ce9c5f55",
   "metadata": {},
   "outputs": [],
   "source": [
    "x = df['Vict Sex'] == 'Female'\n",
    "y = df['Vict Sex'] == 'Male'\n",
    "sub_df = df[x | y]"
   ]
  },
  {
   "cell_type": "code",
   "execution_count": null,
   "id": "4f8da688-f739-44bd-bb7a-abd57fddaa71",
   "metadata": {},
   "outputs": [],
   "source": [
    "plt.clf()\n",
    "fig=plt.figure(figsize=(10,10))\n",
    "graph = sns.displot(data=sub_df, x=\"Vict Age\", hue=\"Vict Sex\", multiple=\"stack\")\n",
    "fig = graph.fig\n",
    "#fig.savefig('IMG/img2.png',facecolor = 'w')"
   ]
  },
  {
   "attachments": {},
   "cell_type": "markdown",
   "id": "1334cdb0-104f-463f-9edf-a31ffd8c5f72",
   "metadata": {},
   "source": [
    "#### EDA 3: Relationship between Victim Age and Crime Type for Females: Is there any relationship between the age of female victims and the type of crime they experience?"
   ]
  },
  {
   "cell_type": "code",
   "execution_count": null,
   "id": "1cb25560-267d-421b-b80d-5e75ebd780dd",
   "metadata": {},
   "outputs": [],
   "source": [
    "fig=plt.figure(figsize=(10,10))\n",
    "sns.scatterplot(data=df, \n",
    "                x=df['Vict Sex'] == 'Female', \n",
    "                y=df['Vict Age'],\n",
    "                alpha = 0.7)\n",
    "plt.suptitle(\"Scatter Plot Comparing Victim Age to Sex\")\n",
    "#fig.savefig('IMG/img3.png',facecolor='w')\n",
    "plt.show()"
   ]
  },
  {
   "attachments": {},
   "cell_type": "markdown",
   "id": "73c82564-b6d6-44f1-bcb7-7e335af2e124",
   "metadata": {},
   "source": [
    "#### EDA 4: Status of Reported Crimes against Females: What is the status of reported crimes against females? (compare to Male)"
   ]
  },
  {
   "cell_type": "code",
   "execution_count": null,
   "id": "1dc775bd-a0bb-4bfb-9dfb-5d16b7d4fa3d",
   "metadata": {},
   "outputs": [],
   "source": [
    "fig=plt.figure(figsize=(10,10))\n",
    "sns.histplot(data=df, x=\"Status Desc\", hue=\"Vict Sex\", multiple=\"stack\")\n",
    "#fig.savefig('IMG/img4.png',facecolor='w')"
   ]
  },
  {
   "cell_type": "code",
   "execution_count": null,
   "id": "2ab03219-06d7-48e8-8558-600d95a04fa8",
   "metadata": {},
   "outputs": [],
   "source": [
    "fig=plt.figure(figsize=(10,10))\n",
    "graph = sns.displot(data=df, x=\"Status Desc\", hue=\"Vict Sex\", col=\"Vict Sex\")\n",
    "fig = graph.fig\n",
    "#fig.savefig('IMG/img4_1.png',facecolor='w')"
   ]
  },
  {
   "attachments": {},
   "cell_type": "markdown",
   "id": "5fc427f4-3d8a-4228-b5cd-adcaf04c4e7f",
   "metadata": {},
   "source": [
    "#### EDA 5: List of female victim who belongs to differernt descent."
   ]
  },
  {
   "cell_type": "code",
   "execution_count": null,
   "id": "bdad4cb5-2ae8-4854-8fee-b58534a62ec9",
   "metadata": {},
   "outputs": [],
   "source": [
    "fig=plt.figure(figsize=(10,10))\n",
    "graph = sns.relplot(data=df, x=df['Vict Sex']== 'Female', y=\"Crm Cd\", hue=\"Vict Descent\", kind=\"line\")\n",
    "fig = graph.fig\n",
    "#fig.savefig('IMG/img5.png',facecolor='w')"
   ]
  },
  {
   "attachments": {},
   "cell_type": "markdown",
   "id": "af178f7c-a2e9-4915-aad9-e339a86e3ffe",
   "metadata": {},
   "source": [
    "#### EDA 6: List of Weapons which mostly use by women"
   ]
  },
  {
   "cell_type": "code",
   "execution_count": null,
   "id": "cdd34eee-fcf9-4d46-9c7a-4d049e56c914",
   "metadata": {},
   "outputs": [],
   "source": [
    "fig=plt.figure(figsize=(10,10))\n",
    "graph = sns.relplot(\n",
    "    data=df, kind=\"line\",\n",
    "    x=df['Vict Sex']=='Female', y=\"Crm Cd\", hue=\"Weapon Desc\",\n",
    ")\n",
    "fig = graph.fig\n",
    "#fig.savefig('IMG/img6.png',facecolor='w')"
   ]
  },
  {
   "attachments": {},
   "cell_type": "markdown",
   "id": "4bc3e5d0",
   "metadata": {},
   "source": [
    "#### EDA 7: Explore more data about victims' Descent, gender, age. What types of crime occured and what is the status of the crime"
   ]
  },
  {
   "cell_type": "code",
   "execution_count": null,
   "id": "3ba747a5-7de6-44a2-a846-a671d8e0a788",
   "metadata": {},
   "outputs": [],
   "source": [
    "fig = px.scatter(df, x='Vict Descent', y='Crm Cd', color='Vict Sex', size='Vict Age', hover_data=['Status Desc'])\n",
    "#fig.show()\n",
    "#fig.write_image('IMG/img7.png')\n",
    "fig.show()"
   ]
  },
  {
   "cell_type": "code",
   "execution_count": null,
   "id": "8a3364be-8aa6-4a21-98e6-92ff35c3eeda",
   "metadata": {},
   "outputs": [],
   "source": [
    "df.corr()"
   ]
  },
  {
   "attachments": {},
   "cell_type": "markdown",
   "id": "6d3d1767-238c-4c55-97ed-ecdb594aee33",
   "metadata": {},
   "source": [
    "### EDA 8: This correlation matrix in a visually pleasing way by using a seaborn heatmap"
   ]
  },
  {
   "cell_type": "code",
   "execution_count": null,
   "id": "401be2df-02eb-4725-87f3-5d09cba73abe",
   "metadata": {},
   "outputs": [],
   "source": [
    "fig=plt.figure(figsize=(10,10))\n",
    "sns.heatmap(df.corr())\n",
    "#fig.savefig('IMG/img8.png',facecolor='w')"
   ]
  },
  {
   "attachments": {},
   "cell_type": "markdown",
   "id": "51589b57",
   "metadata": {},
   "source": [
    "#### EDA 9: Crime occur based on each area and victim's sex"
   ]
  },
  {
   "cell_type": "code",
   "execution_count": null,
   "id": "b3daac88-7b18-410e-8c64-68e1c0cb2d91",
   "metadata": {},
   "outputs": [],
   "source": [
    "fig = px.scatter(df, x='AREA NAME', y='Crm Cd', color='Vict Sex', hover_data=['Crm Cd Desc'])\n",
    "#fig.show()\n",
    "#fig.write_image('IMG/img9_1.png')\n",
    "fig.show()"
   ]
  }
 ],
 "metadata": {
  "kernelspec": {
   "display_name": "LHL_env",
   "language": "python",
   "name": "python3"
  },
  "language_info": {
   "codemirror_mode": {
    "name": "ipython",
    "version": 3
   },
   "file_extension": ".py",
   "mimetype": "text/x-python",
   "name": "python",
   "nbconvert_exporter": "python",
   "pygments_lexer": "ipython3",
   "version": "3.10.11"
  }
 },
 "nbformat": 4,
 "nbformat_minor": 5
}
