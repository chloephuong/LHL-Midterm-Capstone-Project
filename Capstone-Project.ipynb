{
 "cells": [
  {
   "attachments": {},
   "cell_type": "markdown",
   "metadata": {},
   "source": [
    "# Lighthouse Lab Mid-Term\n",
    "## Capstone Project\n",
    "### Dataset: Los Angeles Crime Data Since 2020 to Present"
   ]
  },
  {
   "attachments": {},
   "cell_type": "markdown",
   "metadata": {},
   "source": [
    "Team: Chloe Phuong and Rinkal Raj"
   ]
  },
  {
   "cell_type": "code",
   "execution_count": 89,
   "metadata": {},
   "outputs": [],
   "source": [
    "import pandas as pd"
   ]
  },
  {
   "cell_type": "code",
   "execution_count": 90,
   "metadata": {},
   "outputs": [
    {
     "data": {
      "text/html": [
       "<div>\n",
       "<style scoped>\n",
       "    .dataframe tbody tr th:only-of-type {\n",
       "        vertical-align: middle;\n",
       "    }\n",
       "\n",
       "    .dataframe tbody tr th {\n",
       "        vertical-align: top;\n",
       "    }\n",
       "\n",
       "    .dataframe thead th {\n",
       "        text-align: right;\n",
       "    }\n",
       "</style>\n",
       "<table border=\"1\" class=\"dataframe\">\n",
       "  <thead>\n",
       "    <tr style=\"text-align: right;\">\n",
       "      <th></th>\n",
       "      <th>DR_NO</th>\n",
       "      <th>Date Rptd</th>\n",
       "      <th>DATE OCC</th>\n",
       "      <th>TIME OCC</th>\n",
       "      <th>AREA</th>\n",
       "      <th>AREA NAME</th>\n",
       "      <th>Rpt Dist No</th>\n",
       "      <th>Part 1-2</th>\n",
       "      <th>Crm Cd</th>\n",
       "      <th>Crm Cd Desc</th>\n",
       "      <th>...</th>\n",
       "      <th>Status</th>\n",
       "      <th>Status Desc</th>\n",
       "      <th>Crm Cd 1</th>\n",
       "      <th>Crm Cd 2</th>\n",
       "      <th>Crm Cd 3</th>\n",
       "      <th>Crm Cd 4</th>\n",
       "      <th>LOCATION</th>\n",
       "      <th>Cross Street</th>\n",
       "      <th>LAT</th>\n",
       "      <th>LON</th>\n",
       "    </tr>\n",
       "  </thead>\n",
       "  <tbody>\n",
       "    <tr>\n",
       "      <th>0</th>\n",
       "      <td>10304468</td>\n",
       "      <td>1/8/2020 0:00</td>\n",
       "      <td>1/8/2020 0:00</td>\n",
       "      <td>2230</td>\n",
       "      <td>3</td>\n",
       "      <td>Southwest</td>\n",
       "      <td>377</td>\n",
       "      <td>2</td>\n",
       "      <td>624</td>\n",
       "      <td>BATTERY - SIMPLE ASSAULT</td>\n",
       "      <td>...</td>\n",
       "      <td>AO</td>\n",
       "      <td>Adult Other</td>\n",
       "      <td>624.0</td>\n",
       "      <td>NaN</td>\n",
       "      <td>NaN</td>\n",
       "      <td>NaN</td>\n",
       "      <td>1100 W  39TH                         PL</td>\n",
       "      <td>NaN</td>\n",
       "      <td>34.0141</td>\n",
       "      <td>-118.2978</td>\n",
       "    </tr>\n",
       "    <tr>\n",
       "      <th>1</th>\n",
       "      <td>190101086</td>\n",
       "      <td>1/2/2020 0:00</td>\n",
       "      <td>1/1/2020 0:00</td>\n",
       "      <td>330</td>\n",
       "      <td>1</td>\n",
       "      <td>Central</td>\n",
       "      <td>163</td>\n",
       "      <td>2</td>\n",
       "      <td>624</td>\n",
       "      <td>BATTERY - SIMPLE ASSAULT</td>\n",
       "      <td>...</td>\n",
       "      <td>IC</td>\n",
       "      <td>Invest Cont</td>\n",
       "      <td>624.0</td>\n",
       "      <td>NaN</td>\n",
       "      <td>NaN</td>\n",
       "      <td>NaN</td>\n",
       "      <td>700 S  HILL                         ST</td>\n",
       "      <td>NaN</td>\n",
       "      <td>34.0459</td>\n",
       "      <td>-118.2545</td>\n",
       "    </tr>\n",
       "    <tr>\n",
       "      <th>2</th>\n",
       "      <td>200110444</td>\n",
       "      <td>4/14/2020 0:00</td>\n",
       "      <td>2/13/2020 0:00</td>\n",
       "      <td>1200</td>\n",
       "      <td>1</td>\n",
       "      <td>Central</td>\n",
       "      <td>155</td>\n",
       "      <td>2</td>\n",
       "      <td>845</td>\n",
       "      <td>SEX OFFENDER REGISTRANT OUT OF COMPLIANCE</td>\n",
       "      <td>...</td>\n",
       "      <td>AA</td>\n",
       "      <td>Adult Arrest</td>\n",
       "      <td>845.0</td>\n",
       "      <td>NaN</td>\n",
       "      <td>NaN</td>\n",
       "      <td>NaN</td>\n",
       "      <td>200 E  6TH                          ST</td>\n",
       "      <td>NaN</td>\n",
       "      <td>34.0448</td>\n",
       "      <td>-118.2474</td>\n",
       "    </tr>\n",
       "    <tr>\n",
       "      <th>3</th>\n",
       "      <td>191501505</td>\n",
       "      <td>1/1/2020 0:00</td>\n",
       "      <td>1/1/2020 0:00</td>\n",
       "      <td>1730</td>\n",
       "      <td>15</td>\n",
       "      <td>N Hollywood</td>\n",
       "      <td>1543</td>\n",
       "      <td>2</td>\n",
       "      <td>745</td>\n",
       "      <td>VANDALISM - MISDEAMEANOR ($399 OR UNDER)</td>\n",
       "      <td>...</td>\n",
       "      <td>IC</td>\n",
       "      <td>Invest Cont</td>\n",
       "      <td>745.0</td>\n",
       "      <td>998.0</td>\n",
       "      <td>NaN</td>\n",
       "      <td>NaN</td>\n",
       "      <td>5400    CORTEEN                      PL</td>\n",
       "      <td>NaN</td>\n",
       "      <td>34.1685</td>\n",
       "      <td>-118.4019</td>\n",
       "    </tr>\n",
       "    <tr>\n",
       "      <th>4</th>\n",
       "      <td>191921269</td>\n",
       "      <td>1/1/2020 0:00</td>\n",
       "      <td>1/1/2020 0:00</td>\n",
       "      <td>415</td>\n",
       "      <td>19</td>\n",
       "      <td>Mission</td>\n",
       "      <td>1998</td>\n",
       "      <td>2</td>\n",
       "      <td>740</td>\n",
       "      <td>VANDALISM - FELONY ($400 &amp; OVER, ALL CHURCH VA...</td>\n",
       "      <td>...</td>\n",
       "      <td>IC</td>\n",
       "      <td>Invest Cont</td>\n",
       "      <td>740.0</td>\n",
       "      <td>NaN</td>\n",
       "      <td>NaN</td>\n",
       "      <td>NaN</td>\n",
       "      <td>14400    TITUS                        ST</td>\n",
       "      <td>NaN</td>\n",
       "      <td>34.2198</td>\n",
       "      <td>-118.4468</td>\n",
       "    </tr>\n",
       "  </tbody>\n",
       "</table>\n",
       "<p>5 rows × 28 columns</p>\n",
       "</div>"
      ],
      "text/plain": [
       "       DR_NO       Date Rptd        DATE OCC  TIME OCC  AREA    AREA NAME  \\\n",
       "0   10304468   1/8/2020 0:00   1/8/2020 0:00      2230     3    Southwest   \n",
       "1  190101086   1/2/2020 0:00   1/1/2020 0:00       330     1      Central   \n",
       "2  200110444  4/14/2020 0:00  2/13/2020 0:00      1200     1      Central   \n",
       "3  191501505   1/1/2020 0:00   1/1/2020 0:00      1730    15  N Hollywood   \n",
       "4  191921269   1/1/2020 0:00   1/1/2020 0:00       415    19      Mission   \n",
       "\n",
       "   Rpt Dist No  Part 1-2  Crm Cd  \\\n",
       "0          377         2     624   \n",
       "1          163         2     624   \n",
       "2          155         2     845   \n",
       "3         1543         2     745   \n",
       "4         1998         2     740   \n",
       "\n",
       "                                         Crm Cd Desc  ... Status  \\\n",
       "0                           BATTERY - SIMPLE ASSAULT  ...     AO   \n",
       "1                           BATTERY - SIMPLE ASSAULT  ...     IC   \n",
       "2          SEX OFFENDER REGISTRANT OUT OF COMPLIANCE  ...     AA   \n",
       "3           VANDALISM - MISDEAMEANOR ($399 OR UNDER)  ...     IC   \n",
       "4  VANDALISM - FELONY ($400 & OVER, ALL CHURCH VA...  ...     IC   \n",
       "\n",
       "    Status Desc Crm Cd 1 Crm Cd 2  Crm Cd 3 Crm Cd 4  \\\n",
       "0   Adult Other    624.0      NaN       NaN      NaN   \n",
       "1   Invest Cont    624.0      NaN       NaN      NaN   \n",
       "2  Adult Arrest    845.0      NaN       NaN      NaN   \n",
       "3   Invest Cont    745.0    998.0       NaN      NaN   \n",
       "4   Invest Cont    740.0      NaN       NaN      NaN   \n",
       "\n",
       "                                   LOCATION Cross Street      LAT       LON  \n",
       "0   1100 W  39TH                         PL          NaN  34.0141 -118.2978  \n",
       "1    700 S  HILL                         ST          NaN  34.0459 -118.2545  \n",
       "2    200 E  6TH                          ST          NaN  34.0448 -118.2474  \n",
       "3   5400    CORTEEN                      PL          NaN  34.1685 -118.4019  \n",
       "4  14400    TITUS                        ST          NaN  34.2198 -118.4468  \n",
       "\n",
       "[5 rows x 28 columns]"
      ]
     },
     "execution_count": 90,
     "metadata": {},
     "output_type": "execute_result"
    }
   ],
   "source": [
    "# Read the CSV file\n",
    "df = pd.read_csv('Crime_Data_from_2020_to_Present.csv')\n",
    "\n",
    "# Print the contents of the DataFrame\n",
    "df.head(5)"
   ]
  },
  {
   "cell_type": "code",
   "execution_count": 91,
   "metadata": {},
   "outputs": [
    {
     "data": {
      "text/plain": [
       "(968833, 28)"
      ]
     },
     "execution_count": 91,
     "metadata": {},
     "output_type": "execute_result"
    }
   ],
   "source": [
    "#shape of Data Frame\n",
    "df.shape"
   ]
  },
  {
   "cell_type": "code",
   "execution_count": 92,
   "metadata": {},
   "outputs": [
    {
     "data": {
      "text/plain": [
       "Index(['DR_NO', 'Date Rptd', 'DATE OCC', 'TIME OCC', 'AREA', 'AREA NAME',\n",
       "       'Rpt Dist No', 'Part 1-2', 'Crm Cd', 'Crm Cd Desc', 'Mocodes',\n",
       "       'Vict Age', 'Vict Sex', 'Vict Descent', 'Premis Cd', 'Premis Desc',\n",
       "       'Weapon Used Cd', 'Weapon Desc', 'Status', 'Status Desc', 'Crm Cd 1',\n",
       "       'Crm Cd 2', 'Crm Cd 3', 'Crm Cd 4', 'LOCATION', 'Cross Street', 'LAT',\n",
       "       'LON'],\n",
       "      dtype='object')"
      ]
     },
     "execution_count": 92,
     "metadata": {},
     "output_type": "execute_result"
    }
   ],
   "source": [
    "# Getting the Columns\n",
    "df.columns"
   ]
  },
  {
   "cell_type": "code",
   "execution_count": 93,
   "metadata": {},
   "outputs": [
    {
     "data": {
      "text/plain": [
       "DR_NO               int64\n",
       "Date Rptd          object\n",
       "DATE OCC           object\n",
       "TIME OCC            int64\n",
       "AREA                int64\n",
       "AREA NAME          object\n",
       "Rpt Dist No         int64\n",
       "Part 1-2            int64\n",
       "Crm Cd              int64\n",
       "Crm Cd Desc        object\n",
       "Mocodes            object\n",
       "Vict Age            int64\n",
       "Vict Sex           object\n",
       "Vict Descent       object\n",
       "Premis Cd         float64\n",
       "Premis Desc        object\n",
       "Weapon Used Cd    float64\n",
       "Weapon Desc        object\n",
       "Status             object\n",
       "Status Desc        object\n",
       "Crm Cd 1          float64\n",
       "Crm Cd 2          float64\n",
       "Crm Cd 3          float64\n",
       "Crm Cd 4          float64\n",
       "LOCATION           object\n",
       "Cross Street       object\n",
       "LAT               float64\n",
       "LON               float64\n",
       "dtype: object"
      ]
     },
     "execution_count": 93,
     "metadata": {},
     "output_type": "execute_result"
    }
   ],
   "source": [
    "#Checking the types of data\n",
    "df.dtypes"
   ]
  },
  {
   "cell_type": "code",
   "execution_count": 94,
   "metadata": {},
   "outputs": [
    {
     "data": {
      "text/html": [
       "<div>\n",
       "<style scoped>\n",
       "    .dataframe tbody tr th:only-of-type {\n",
       "        vertical-align: middle;\n",
       "    }\n",
       "\n",
       "    .dataframe tbody tr th {\n",
       "        vertical-align: top;\n",
       "    }\n",
       "\n",
       "    .dataframe thead th {\n",
       "        text-align: right;\n",
       "    }\n",
       "</style>\n",
       "<table border=\"1\" class=\"dataframe\">\n",
       "  <thead>\n",
       "    <tr style=\"text-align: right;\">\n",
       "      <th></th>\n",
       "      <th>DR_NO</th>\n",
       "      <th>Date Rptd</th>\n",
       "      <th>DATE OCC</th>\n",
       "      <th>TIME OCC</th>\n",
       "      <th>AREA NAME</th>\n",
       "      <th>Crm Cd</th>\n",
       "      <th>Crm Cd Desc</th>\n",
       "      <th>Vict Age</th>\n",
       "      <th>Vict Sex</th>\n",
       "      <th>Vict Descent</th>\n",
       "      <th>Premis Desc</th>\n",
       "      <th>Weapon Desc</th>\n",
       "      <th>Status Desc</th>\n",
       "      <th>Crm Cd 1</th>\n",
       "      <th>LOCATION</th>\n",
       "      <th>LAT</th>\n",
       "      <th>LON</th>\n",
       "    </tr>\n",
       "  </thead>\n",
       "  <tbody>\n",
       "    <tr>\n",
       "      <th>0</th>\n",
       "      <td>10304468</td>\n",
       "      <td>1/8/2020 0:00</td>\n",
       "      <td>1/8/2020 0:00</td>\n",
       "      <td>2230</td>\n",
       "      <td>Southwest</td>\n",
       "      <td>624</td>\n",
       "      <td>BATTERY - SIMPLE ASSAULT</td>\n",
       "      <td>36</td>\n",
       "      <td>F</td>\n",
       "      <td>B</td>\n",
       "      <td>SINGLE FAMILY DWELLING</td>\n",
       "      <td>STRONG-ARM (HANDS, FIST, FEET OR BODILY FORCE)</td>\n",
       "      <td>Adult Other</td>\n",
       "      <td>624.0</td>\n",
       "      <td>1100 W  39TH                         PL</td>\n",
       "      <td>34.0141</td>\n",
       "      <td>-118.2978</td>\n",
       "    </tr>\n",
       "    <tr>\n",
       "      <th>1</th>\n",
       "      <td>190101086</td>\n",
       "      <td>1/2/2020 0:00</td>\n",
       "      <td>1/1/2020 0:00</td>\n",
       "      <td>330</td>\n",
       "      <td>Central</td>\n",
       "      <td>624</td>\n",
       "      <td>BATTERY - SIMPLE ASSAULT</td>\n",
       "      <td>25</td>\n",
       "      <td>M</td>\n",
       "      <td>H</td>\n",
       "      <td>SIDEWALK</td>\n",
       "      <td>UNKNOWN WEAPON/OTHER WEAPON</td>\n",
       "      <td>Invest Cont</td>\n",
       "      <td>624.0</td>\n",
       "      <td>700 S  HILL                         ST</td>\n",
       "      <td>34.0459</td>\n",
       "      <td>-118.2545</td>\n",
       "    </tr>\n",
       "    <tr>\n",
       "      <th>2</th>\n",
       "      <td>200110444</td>\n",
       "      <td>4/14/2020 0:00</td>\n",
       "      <td>2/13/2020 0:00</td>\n",
       "      <td>1200</td>\n",
       "      <td>Central</td>\n",
       "      <td>845</td>\n",
       "      <td>SEX OFFENDER REGISTRANT OUT OF COMPLIANCE</td>\n",
       "      <td>0</td>\n",
       "      <td>X</td>\n",
       "      <td>X</td>\n",
       "      <td>POLICE FACILITY</td>\n",
       "      <td>NaN</td>\n",
       "      <td>Adult Arrest</td>\n",
       "      <td>845.0</td>\n",
       "      <td>200 E  6TH                          ST</td>\n",
       "      <td>34.0448</td>\n",
       "      <td>-118.2474</td>\n",
       "    </tr>\n",
       "    <tr>\n",
       "      <th>3</th>\n",
       "      <td>191501505</td>\n",
       "      <td>1/1/2020 0:00</td>\n",
       "      <td>1/1/2020 0:00</td>\n",
       "      <td>1730</td>\n",
       "      <td>N Hollywood</td>\n",
       "      <td>745</td>\n",
       "      <td>VANDALISM - MISDEAMEANOR ($399 OR UNDER)</td>\n",
       "      <td>76</td>\n",
       "      <td>F</td>\n",
       "      <td>W</td>\n",
       "      <td>MULTI-UNIT DWELLING (APARTMENT, DUPLEX, ETC)</td>\n",
       "      <td>NaN</td>\n",
       "      <td>Invest Cont</td>\n",
       "      <td>745.0</td>\n",
       "      <td>5400    CORTEEN                      PL</td>\n",
       "      <td>34.1685</td>\n",
       "      <td>-118.4019</td>\n",
       "    </tr>\n",
       "    <tr>\n",
       "      <th>4</th>\n",
       "      <td>191921269</td>\n",
       "      <td>1/1/2020 0:00</td>\n",
       "      <td>1/1/2020 0:00</td>\n",
       "      <td>415</td>\n",
       "      <td>Mission</td>\n",
       "      <td>740</td>\n",
       "      <td>VANDALISM - FELONY ($400 &amp; OVER, ALL CHURCH VA...</td>\n",
       "      <td>31</td>\n",
       "      <td>X</td>\n",
       "      <td>X</td>\n",
       "      <td>BEAUTY SUPPLY STORE</td>\n",
       "      <td>NaN</td>\n",
       "      <td>Invest Cont</td>\n",
       "      <td>740.0</td>\n",
       "      <td>14400    TITUS                        ST</td>\n",
       "      <td>34.2198</td>\n",
       "      <td>-118.4468</td>\n",
       "    </tr>\n",
       "  </tbody>\n",
       "</table>\n",
       "</div>"
      ],
      "text/plain": [
       "       DR_NO       Date Rptd        DATE OCC  TIME OCC    AREA NAME  Crm Cd  \\\n",
       "0   10304468   1/8/2020 0:00   1/8/2020 0:00      2230    Southwest     624   \n",
       "1  190101086   1/2/2020 0:00   1/1/2020 0:00       330      Central     624   \n",
       "2  200110444  4/14/2020 0:00  2/13/2020 0:00      1200      Central     845   \n",
       "3  191501505   1/1/2020 0:00   1/1/2020 0:00      1730  N Hollywood     745   \n",
       "4  191921269   1/1/2020 0:00   1/1/2020 0:00       415      Mission     740   \n",
       "\n",
       "                                         Crm Cd Desc  Vict Age Vict Sex  \\\n",
       "0                           BATTERY - SIMPLE ASSAULT        36        F   \n",
       "1                           BATTERY - SIMPLE ASSAULT        25        M   \n",
       "2          SEX OFFENDER REGISTRANT OUT OF COMPLIANCE         0        X   \n",
       "3           VANDALISM - MISDEAMEANOR ($399 OR UNDER)        76        F   \n",
       "4  VANDALISM - FELONY ($400 & OVER, ALL CHURCH VA...        31        X   \n",
       "\n",
       "  Vict Descent                                   Premis Desc  \\\n",
       "0            B                        SINGLE FAMILY DWELLING   \n",
       "1            H                                      SIDEWALK   \n",
       "2            X                               POLICE FACILITY   \n",
       "3            W  MULTI-UNIT DWELLING (APARTMENT, DUPLEX, ETC)   \n",
       "4            X                           BEAUTY SUPPLY STORE   \n",
       "\n",
       "                                      Weapon Desc   Status Desc  Crm Cd 1  \\\n",
       "0  STRONG-ARM (HANDS, FIST, FEET OR BODILY FORCE)   Adult Other     624.0   \n",
       "1                     UNKNOWN WEAPON/OTHER WEAPON   Invest Cont     624.0   \n",
       "2                                             NaN  Adult Arrest     845.0   \n",
       "3                                             NaN   Invest Cont     745.0   \n",
       "4                                             NaN   Invest Cont     740.0   \n",
       "\n",
       "                                   LOCATION      LAT       LON  \n",
       "0   1100 W  39TH                         PL  34.0141 -118.2978  \n",
       "1    700 S  HILL                         ST  34.0459 -118.2545  \n",
       "2    200 E  6TH                          ST  34.0448 -118.2474  \n",
       "3   5400    CORTEEN                      PL  34.1685 -118.4019  \n",
       "4  14400    TITUS                        ST  34.2198 -118.4468  "
      ]
     },
     "execution_count": 94,
     "metadata": {},
     "output_type": "execute_result"
    }
   ],
   "source": [
    "#Dropping irrelevant columns\n",
    "df = df.drop(['AREA', 'Rpt Dist No', 'Part 1-2', 'Mocodes', 'Premis Cd','Status','Weapon Used Cd','Crm Cd 2','Crm Cd 3','Crm Cd 4','Cross Street'], axis=1)\n",
    "df.head(5)"
   ]
  },
  {
   "cell_type": "code",
   "execution_count": 95,
   "metadata": {},
   "outputs": [],
   "source": [
    "# Change Vict Age value\n",
    "df.loc[df['Vict Age'] < 0, 'Vict Age'] = 0"
   ]
  },
  {
   "cell_type": "code",
   "execution_count": 96,
   "metadata": {},
   "outputs": [
    {
     "data": {
      "text/plain": [
       "0          Female\n",
       "1            Male\n",
       "2         Unknown\n",
       "3          Female\n",
       "4         Unknown\n",
       "           ...   \n",
       "968828     Female\n",
       "968829       Male\n",
       "968830    Unknown\n",
       "968831     Female\n",
       "968832       Male\n",
       "Name: Vict Sex, Length: 968833, dtype: object"
      ]
     },
     "execution_count": 96,
     "metadata": {},
     "output_type": "execute_result"
    }
   ],
   "source": [
    "# Change Vict Sex value\n",
    "# Replace 'F' with 'Female'\n",
    "df['Vict Sex'] = df['Vict Sex'].replace('F', 'Female')\n",
    "\n",
    "# Replace 'M' with 'Male'\n",
    "df['Vict Sex'] = df['Vict Sex'].replace('M', 'Male')\n",
    "\n",
    "# Replace 'X', 'H', 'N', ' ' with 'Uknown'\n",
    "df['Vict Sex'] = df['Vict Sex'].replace(['X', 'H', 'N', ' '], 'Unknown')\n",
    "\n",
    "# Replace NaN values with 'Unknown'\n",
    "df['Vict Sex'].fillna('Unknown', inplace=True)\n",
    "\n",
    "df['Vict Sex']"
   ]
  },
  {
   "cell_type": "code",
   "execution_count": 97,
   "metadata": {},
   "outputs": [
    {
     "data": {
      "text/plain": [
       "0                          Black\n",
       "1         Hispanic/Latin/Mexican\n",
       "2                        Unknown\n",
       "3                          White\n",
       "4                        Unknown\n",
       "                   ...          \n",
       "968828    Hispanic/Latin/Mexican\n",
       "968829                     White\n",
       "968830                   Unknown\n",
       "968831    Hispanic/Latin/Mexican\n",
       "968832                     Black\n",
       "Name: Vict Descent, Length: 968833, dtype: object"
      ]
     },
     "execution_count": 97,
     "metadata": {},
     "output_type": "execute_result"
    }
   ],
   "source": [
    "# Change Vict Descent value\n",
    "descent_mapping = {\n",
    "    'A': 'Other Asian',\n",
    "    'B': 'Black',\n",
    "    'C': 'Chinese',\n",
    "    'D': 'Cambodian',\n",
    "    'F': 'Filipino',\n",
    "    'G': 'Guamanian',\n",
    "    'H': 'Hispanic/Latin/Mexican',\n",
    "    'I': 'American Indian/Alaskan Native',\n",
    "    'J': 'Japanese',\n",
    "    'K': 'Korean',\n",
    "    'L': 'Laotian',\n",
    "    'O': 'Other',\n",
    "    'P': 'Pacific Islander',\n",
    "    'S': 'Samoan',\n",
    "    'U': 'Hawaiian',\n",
    "    'V': 'Vietnamese',\n",
    "    'W': 'White',\n",
    "    'X': 'Unknown',\n",
    "    'Z': 'Asian Indian'\n",
    "}\n",
    "\n",
    "# Apply the replacements using the map function\n",
    "df['Vict Descent'] = df['Vict Descent'].map(descent_mapping).fillna('Unknown')\n",
    "\n",
    "\n",
    "df['Vict Descent']"
   ]
  },
  {
   "cell_type": "code",
   "execution_count": 98,
   "metadata": {},
   "outputs": [
    {
     "data": {
      "text/plain": [
       "0         STRONG-ARM (HANDS, FIST, FEET OR BODILY FORCE)\n",
       "1                            UNKNOWN WEAPON/OTHER WEAPON\n",
       "2                                                Unknown\n",
       "3                                                Unknown\n",
       "4                                                Unknown\n",
       "                               ...                      \n",
       "968828                                           Unknown\n",
       "968829                                           Unknown\n",
       "968830                                           Unknown\n",
       "968831                                           Unknown\n",
       "968832    STRONG-ARM (HANDS, FIST, FEET OR BODILY FORCE)\n",
       "Name: Weapon Desc, Length: 968833, dtype: object"
      ]
     },
     "execution_count": 98,
     "metadata": {},
     "output_type": "execute_result"
    }
   ],
   "source": [
    "# Fill null values in 'Weapon Desc' column with 'Unknown'\n",
    "df['Weapon Desc'].fillna('Unknown', inplace=True)\n",
    "\n",
    "df['Weapon Desc']"
   ]
  },
  {
   "cell_type": "code",
   "execution_count": 99,
   "metadata": {},
   "outputs": [],
   "source": [
    "# Convert 'time occ' column to string type\n",
    "df['TIME OCC'] = df['TIME OCC'].astype(str)\n",
    "\n",
    "# Extract hour and minute values from 'time occ' column\n",
    "hour = df['TIME OCC'].str[:-2]\n",
    "minute = df['TIME OCC'].str[-2:]\n",
    "\n",
    "# Add leading zeros to hour if necessary\n",
    "hour = hour.str.zfill(2)\n",
    "\n",
    "# Combine hour and minute values with a colon\n",
    "df['TIME OCC'] = hour + ':' + minute"
   ]
  },
  {
   "cell_type": "code",
   "execution_count": 100,
   "metadata": {},
   "outputs": [
    {
     "data": {
      "text/plain": [
       "(968833, 17)"
      ]
     },
     "execution_count": 100,
     "metadata": {},
     "output_type": "execute_result"
    }
   ],
   "source": [
    "df.shape"
   ]
  },
  {
   "cell_type": "code",
   "execution_count": 101,
   "metadata": {},
   "outputs": [
    {
     "data": {
      "text/plain": [
       "DR_NO           968833\n",
       "Date Rptd       968833\n",
       "DATE OCC        968833\n",
       "TIME OCC        968833\n",
       "AREA NAME       968833\n",
       "Crm Cd          968833\n",
       "Crm Cd Desc     968833\n",
       "Vict Age        968833\n",
       "Vict Sex        968833\n",
       "Vict Descent    968833\n",
       "Premis Desc     968317\n",
       "Weapon Desc     968833\n",
       "Status Desc     968833\n",
       "Crm Cd 1        968823\n",
       "LOCATION        968833\n",
       "LAT             968833\n",
       "LON             968833\n",
       "dtype: int64"
      ]
     },
     "execution_count": 101,
     "metadata": {},
     "output_type": "execute_result"
    }
   ],
   "source": [
    "df.count()"
   ]
  },
  {
   "cell_type": "code",
   "execution_count": 102,
   "metadata": {},
   "outputs": [
    {
     "name": "stdout",
     "output_type": "stream",
     "text": [
      "number of duplicate rows:  (20811, 17)\n"
     ]
    }
   ],
   "source": [
    "#remove duplicate data\n",
    "duplicate_rows_df = df[df['DR_NO'].duplicated()]\n",
    "print(\"number of duplicate rows: \", duplicate_rows_df.shape)"
   ]
  },
  {
   "cell_type": "code",
   "execution_count": 103,
   "metadata": {},
   "outputs": [],
   "source": [
    "df = df.drop_duplicates(subset=['DR_NO'])"
   ]
  },
  {
   "cell_type": "code",
   "execution_count": 104,
   "metadata": {},
   "outputs": [
    {
     "data": {
      "text/plain": [
       "DR_NO           948022\n",
       "Date Rptd       948022\n",
       "DATE OCC        948022\n",
       "TIME OCC        948022\n",
       "AREA NAME       948022\n",
       "Crm Cd          948022\n",
       "Crm Cd Desc     948022\n",
       "Vict Age        948022\n",
       "Vict Sex        948022\n",
       "Vict Descent    948022\n",
       "Premis Desc     947515\n",
       "Weapon Desc     948022\n",
       "Status Desc     948022\n",
       "Crm Cd 1        948012\n",
       "LOCATION        948022\n",
       "LAT             948022\n",
       "LON             948022\n",
       "dtype: int64"
      ]
     },
     "execution_count": 104,
     "metadata": {},
     "output_type": "execute_result"
    }
   ],
   "source": [
    "df.count()"
   ]
  },
  {
   "attachments": {},
   "cell_type": "markdown",
   "metadata": {},
   "source": [
    "### Hypothesis"
   ]
  },
  {
   "attachments": {},
   "cell_type": "markdown",
   "metadata": {},
   "source": [
    "Hypothesis: There is a correlation between the victim's age and the type of crime ('RAPE, FORCIBLE' and 'RAPE, ATTEMPTED') for crimes targeting females."
   ]
  },
  {
   "cell_type": "code",
   "execution_count": 60,
   "metadata": {},
   "outputs": [],
   "source": [
    "import seaborn as sns\n",
    "import matplotlib.pyplot as plt\n",
    "from scipy.stats import chi2_contingency"
   ]
  },
  {
   "cell_type": "code",
   "execution_count": 141,
   "metadata": {},
   "outputs": [],
   "source": [
    "# Subset the data for female victims\n",
    "df_female = df[df['Vict Sex'] == 'Female']\n",
    "\n",
    "# Filter the data for the selected crime types\n",
    "selected_crime_types = ['RAPE, FORCIBLE', 'RAPE, ATTEMPTED']\n",
    "df_selected = df_female[df_female['Crm Cd Desc'].isin(selected_crime_types)]"
   ]
  },
  {
   "cell_type": "code",
   "execution_count": 142,
   "metadata": {},
   "outputs": [],
   "source": [
    "# Perform correlation analysis\n",
    "correlation = df_selected['Vict Age'].corr(df_selected['Crm Cd Desc'], method='spearman')"
   ]
  },
  {
   "cell_type": "code",
   "execution_count": 143,
   "metadata": {},
   "outputs": [
    {
     "data": {
      "image/png": "[encoded data removed]",
      "text/plain": [
       "<Figure size 640x480 with 1 Axes>"
      ]
     },
     "metadata": {},
     "output_type": "display_data"
    }
   ],
   "source": [
    "# Create a scatter plot\n",
    "plt.scatter(df_selected['Vict Age'], df_selected['Crm Cd Desc'])\n",
    "plt.xlabel('Victim Age')\n",
    "plt.ylabel('Crime Description')\n",
    "plt.title('Correlation between Victim Age and Crime Types')\n",
    "plt.xticks(rotation=90)\n",
    "\n",
    "# Show the correlation coefficient on the plot\n",
    "plt.text(0.5, 0.9, f'Correlation Coefficient: {correlation:.2f}', transform=plt.gca().transAxes)\n",
    "\n",
    "# Display the plot\n",
    "plt.show()"
   ]
  },
  {
   "attachments": {},
   "cell_type": "markdown",
   "metadata": {},
   "source": [
    "A correlation coefficient of -0.11 suggests a weak negative correlation between the victim's age and the crime types of \"RAPE, FORCIBLE\" and \"RAPE, ATTEMPTED\" for crimes targeting females. This means that as the victim's age increases, there is a slight tendency for the occurrence of these crime types to decrease slightly. However, the correlation is weak, indicating that age alone does not strongly determine the occurrence of these specific crimes."
   ]
  },
  {
   "attachments": {},
   "cell_type": "markdown",
   "metadata": {},
   "source": [
    "### Build Regression Model"
   ]
  },
  {
   "cell_type": "code",
   "execution_count": 166,
   "metadata": {},
   "outputs": [
    {
     "name": "stdout",
     "output_type": "stream",
     "text": [
      "                            OLS Regression Results                            \n",
      "==============================================================================\n",
      "Dep. Variable:                 Crm Cd   R-squared:                       0.001\n",
      "Model:                            OLS   Adj. R-squared:                  0.001\n",
      "Method:                 Least Squares   F-statistic:                     342.8\n",
      "Date:                Wed, 14 Jun 2023   Prob (F-statistic):           1.73e-76\n",
      "Time:                        18:16:24   Log-Likelihood:            -2.4329e+06\n",
      "No. Observations:              355971   AIC:                         4.866e+06\n",
      "Df Residuals:                  355969   BIC:                         4.866e+06\n",
      "Df Model:                           1                                         \n",
      "Covariance Type:            nonrobust                                         \n",
      "==============================================================================\n",
      "                 coef    std err          t      P>|t|      [0.025      0.975]\n",
      "------------------------------------------------------------------------------\n",
      "const        546.4218      0.969    563.835      0.000     544.522     548.321\n",
      "Vict Age      -0.4326      0.023    -18.514      0.000      -0.478      -0.387\n",
      "==============================================================================\n",
      "Omnibus:                   163542.135   Durbin-Watson:                   1.987\n",
      "Prob(Omnibus):                  0.000   Jarque-Bera (JB):            22779.284\n",
      "Skew:                           0.274   Prob(JB):                         0.00\n",
      "Kurtosis:                       1.888   Cond. No.                         107.\n",
      "==============================================================================\n",
      "\n",
      "Notes:\n",
      "[1] Standard Errors assume that the covariance matrix of the errors is correctly specified.\n"
     ]
    }
   ],
   "source": [
    "# Select the relevant columns for regression\n",
    "df_selected = df[['Vict Age', 'Vict Sex', 'Crm Cd']]\n",
    "\n",
    "# Filter the dataset for female victims only\n",
    "df_female = df_selected[df_selected['Vict Sex'] == 'Female']\n",
    "\n",
    "# Dependent variable\n",
    "y = df_female['Crm Cd']\n",
    "\n",
    "# Independent variables\n",
    "X = df_female[['Vict Age']]\n",
    "\n",
    "# Add a constant to the predictor variable\n",
    "X = sm.add_constant(X)\n",
    "\n",
    "# Fit the regression model\n",
    "model = sm.OLS(y, X)\n",
    "results = model.fit()\n",
    "\n",
    "print(results.summary())"
   ]
  },
  {
   "attachments": {},
   "cell_type": "markdown",
   "metadata": {},
   "source": [
    "Overall, the regression analysis suggests that there is a statistically significant relationship between Vict Age and Crm Cd for female victims. However, the low R-squared value suggests that Vict Age alone explains only a small portion of the variation in Crm Cd."
   ]
  }
 ],
 "metadata": {
  "kernelspec": {
   "display_name": "the_one",
   "language": "python",
   "name": "python3"
  },
  "language_info": {
   "codemirror_mode": {
    "name": "ipython",
    "version": 3
   },
   "file_extension": ".py",
   "mimetype": "text/x-python",
   "name": "python",
   "nbconvert_exporter": "python",
   "pygments_lexer": "ipython3",
   "version": "3.10.9"
  }
 },
 "nbformat": 4,
 "nbformat_minor": 4
}
